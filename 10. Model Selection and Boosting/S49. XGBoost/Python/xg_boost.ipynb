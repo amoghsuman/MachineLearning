{
 "cells": [
  {
   "cell_type": "markdown",
   "metadata": {
    "id": "8FLud1n-3pVm"
   },
   "source": [
    "# XGBoost"
   ]
  },
  {
   "cell_type": "markdown",
   "metadata": {
    "id": "sO8VPU6n3vES"
   },
   "source": [
    "## Importing the libraries"
   ]
  },
  {
   "cell_type": "code",
   "execution_count": null,
   "metadata": {
    "id": "clDSsF7P33NU"
   },
   "outputs": [],
   "source": [
    "import numpy as np\n",
    "import matplotlib.pyplot as plt\n",
    "import pandas as pd"
   ]
  },
  {
   "cell_type": "markdown",
   "metadata": {
    "id": "zGpwK5XD386E"
   },
   "source": [
    "## Importing the dataset"
   ]
  },
  {
   "cell_type": "code",
   "execution_count": null,
   "metadata": {
    "id": "Zcksk88u4Ae8"
   },
   "outputs": [],
   "source": [
    "dataset = pd.read_csv('Data.csv')\n",
    "X = dataset.iloc[:, :-1].values\n",
    "y = dataset.iloc[:, -1].values"
   ]
  },
  {
   "cell_type": "markdown",
   "metadata": {
    "id": "XNn2RnST6_Q-"
   },
   "source": [
    "## Splitting the dataset into the Training set and Test set"
   ]
  },
  {
   "cell_type": "code",
   "execution_count": null,
   "metadata": {
    "id": "ajhBL-er7Gry"
   },
   "outputs": [],
   "source": [
    "from sklearn.model_selection import train_test_split\n",
    "X_train, X_test, y_train, y_test = train_test_split(X, y, test_size = 0.2, random_state = 0)"
   ]
  },
  {
   "cell_type": "markdown",
   "metadata": {
    "id": "1Y89ctGZ7Mcx"
   },
   "source": [
    "## Training XGBoost on the Training set"
   ]
  },
  {
   "cell_type": "code",
   "execution_count": null,
   "metadata": {
    "id": "ude1J0E47SKN"
   },
   "outputs": [],
   "source": [
    "# Import XGBClassifier from the XGBoost library\n",
    "from xgboost import XGBClassifier\n",
    "\n",
    "# Create an XGBoost classifier object with default parameters\n",
    "classifier = XGBClassifier()\n",
    "\n",
    "# Train the XGBoost classifier on the training data\n",
    "classifier.fit(X_train, y_train)\n"
   ]
  },
  {
   "cell_type": "markdown",
   "metadata": {
    "id": "ivqmubzW7dFJ"
   },
   "source": [
    "## Making the Confusion Matrix"
   ]
  },
  {
   "cell_type": "code",
   "execution_count": null,
   "metadata": {
    "id": "SUSZ3zm_7gRD"
   },
   "outputs": [],
   "source": [
    "from sklearn.metrics import confusion_matrix, accuracy_score\n",
    "y_pred = classifier.predict(X_test)\n",
    "cm = confusion_matrix(y_test, y_pred)\n",
    "print(cm)\n",
    "accuracy_score(y_test, y_pred)"
   ]
  },
  {
   "cell_type": "markdown",
   "metadata": {
    "id": "EnbCjHgQ8XPn"
   },
   "source": [
    "## Applying k-Fold Cross Validation"
   ]
  },
  {
   "cell_type": "code",
   "execution_count": null,
   "metadata": {
    "id": "yYbfiITD8ZAz"
   },
   "outputs": [],
   "source": [
    "# Import cross_val_score for performing cross-validation\n",
    "from sklearn.model_selection import cross_val_score\n",
    "\n",
    "# Perform 10-fold cross-validation on the training set using the XGBoost classifier\n",
    "accuracies = cross_val_score(estimator=classifier, X=X_train, y=y_train, cv=10)\n",
    "\n",
    "# Calculate and print the mean accuracy across the 10 folds, formatted as a percentage\n",
    "print(\"Accuracy: {:.2f} %\".format(accuracies.mean() * 100))\n",
    "\n",
    "# Calculate and print the standard deviation of the accuracies to indicate variability across folds\n",
    "print(\"Standard Deviation: {:.2f} %\".format(accuracies.std() * 100))\n"
   ]
  }
 ],
 "metadata": {
  "colab": {
   "authorship_tag": "ABX9TyPuuFI9DETSuUNcfBKFNz89",
   "collapsed_sections": [],
   "name": "xg_boost.ipynb",
   "provenance": [],
   "toc_visible": true
  },
  "kernelspec": {
   "display_name": "Python 3",
   "language": "python",
   "name": "python3"
  },
  "language_info": {
   "codemirror_mode": {
    "name": "ipython",
    "version": 3
   },
   "file_extension": ".py",
   "mimetype": "text/x-python",
   "name": "python",
   "nbconvert_exporter": "python",
   "pygments_lexer": "ipython3",
   "version": "3.6.4"
  }
 },
 "nbformat": 4,
 "nbformat_minor": 1
}
